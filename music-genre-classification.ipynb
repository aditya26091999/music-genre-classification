{
  "nbformat": 4,
  "nbformat_minor": 0,
  "metadata": {
    "colab": {
      "name": "DMW-MiniProject-1.ipynb",
      "provenance": [],
      "collapsed_sections": [],
      "authorship_tag": "ABX9TyNtJO1gOSL9Z9d+PCKQaWek",
      "include_colab_link": true
    },
    "kernelspec": {
      "name": "python3",
      "display_name": "Python 3"
    }
  },
  "cells": [
    {
      "cell_type": "markdown",
      "metadata": {
        "id": "view-in-github",
        "colab_type": "text"
      },
      "source": [
        "<a href=\"https://colab.research.google.com/github/aditya26091999/music-genre-classification/blob/main/music-genre-classification.ipynb\" target=\"_parent\"><img src=\"https://colab.research.google.com/assets/colab-badge.svg\" alt=\"Open In Colab\"/></a>"
      ]
    },
    {
      "cell_type": "markdown",
      "metadata": {
        "id": "K6j2lryr3YKu"
      },
      "source": [
        "This Google Collab is meant to house the code for DMW-Mini-Project. The project deals with classifying the songs into respective genres.The datasets that can be used include Spotify, Gaana, Wynk, Shazam, Saavn, etc.Yet another audio dataset that can be used is GTZAN dataset.\n",
        "\n",
        "The dataset will be trained on some of the state-of-the-art classification algorithms like, SVM, Logistic Regression, CNN, Decision tree etc.\n",
        "\n",
        "The best algorithm choice will be made, after proper examination of results, accuracy and other deciding factors"
      ]
    },
    {
      "cell_type": "markdown",
      "metadata": {
        "id": "z-VPWc5Z9rwB"
      },
      "source": [
        "# Setting the Prerequisites"
      ]
    },
    {
      "cell_type": "code",
      "metadata": {
        "id": "c-yKu9P2A9EM"
      },
      "source": [
        "print('Welcome to the MUSIC-GENRE-CLASSIFICATION Project!')"
      ],
      "execution_count": null,
      "outputs": []
    },
    {
      "cell_type": "code",
      "metadata": {
        "id": "vzguSpbcqYIO"
      },
      "source": [
        "#Downloading some Google-Collab exclusive dependencies\n",
        "!pip install flask-ngrok\n",
        "\n",
        "# Importing the necessary libraries for the project\n",
        "import numpy as np\n",
        "import pandas as pd\n",
        "import matplotlib.pyplot as plt\n",
        "import seaborn as sns\n",
        "import bokeh as bk\n",
        "import plotly as plt\n",
        "from flask_ngrok import run_with_ngrok\n",
        "from flask import Flask,jsonify,request\n",
        "from IPython.display import display"
      ],
      "execution_count": null,
      "outputs": []
    },
    {
      "cell_type": "markdown",
      "metadata": {
        "id": "ErIVdVEotAik"
      },
      "source": [
        "# Dataset Insights"
      ]
    },
    {
      "cell_type": "markdown",
      "metadata": {
        "id": "thxouFfb92c1"
      },
      "source": [
        "Dataset retrieval from Github"
      ]
    },
    {
      "cell_type": "code",
      "metadata": {
        "id": "qObIeEDitIh0"
      },
      "source": [
        "#loading the dataset from Github folder\n",
        "datasetUrl = 'https://raw.githubusercontent.com/aditya26091999/music-genre-classification/main/Probable%20Datasets/26-Genres.csv'\n",
        "dataset = pd.read_csv(datasetUrl)"
      ],
      "execution_count": 201,
      "outputs": []
    },
    {
      "cell_type": "markdown",
      "metadata": {
        "id": "ltOI4exrk_So"
      },
      "source": [
        "Inspecting the original dataset structure and properties"
      ]
    },
    {
      "cell_type": "code",
      "metadata": {
        "id": "6Okxd4wGk9NB"
      },
      "source": [
        "#checking the dataset loaded from Github\n",
        "display(dataset.head())\n"
      ],
      "execution_count": null,
      "outputs": []
    },
    {
      "cell_type": "markdown",
      "metadata": {
        "id": "kK0TMZbA9_OB"
      },
      "source": [
        "## Cleaning the dataset"
      ]
    },
    {
      "cell_type": "code",
      "metadata": {
        "id": "b9nWXOUnorkK"
      },
      "source": [
        "#cleaning the dataset for unwanted genre classes and their associated rows\n",
        "display(dataset.columns)\n",
        "display(dataset.genre.unique())\n",
        "\n",
        "columns_to_drop = ['artist_name', 'track_name', 'track_id', 'duration_ms','popularity', 'mode','time_signature']\n",
        "\n",
        "rows_to_drop = ['Movie', 'R&B', 'A Capella', 'Alternative', 'Anime','Blues', 'Opera',\"Children's Music\", 'Children’s Music', 'Indie', 'Reggae', 'Reggaeton', 'Ska', 'Comedy', 'Soul','Soundtrack', 'World']\n",
        "\n",
        "# Dropping the unwanted features(columns)\n",
        "dataset.drop(columns_to_drop,axis=1,inplace=True)\n",
        "\n",
        "# Dropping the unwanted classes(rows)\n",
        "for x in rows_to_drop:\n",
        "  dataset.drop(dataset.loc[dataset['genre'] == x].index,inplace=True)"
      ],
      "execution_count": null,
      "outputs": []
    },
    {
      "cell_type": "markdown",
      "metadata": {
        "id": "c2d1w3RQJsMV"
      },
      "source": [
        "**Final Cleaned Dataset**\n",
        "\n",
        "---\n",
        "\n"
      ]
    },
    {
      "cell_type": "code",
      "metadata": {
        "id": "IK5lXOKx3RG9"
      },
      "source": [
        "#Final cleaned dataset\n",
        "display(dataset)"
      ],
      "execution_count": null,
      "outputs": []
    },
    {
      "cell_type": "code",
      "metadata": {
        "id": "8bh1T--V9BGc"
      },
      "source": [
        "display(dataset.describe())\n",
        "print()\n",
        "display(dataset.info())\n",
        "print()\n",
        "display(dataset.shape)"
      ],
      "execution_count": null,
      "outputs": []
    },
    {
      "cell_type": "markdown",
      "metadata": {
        "id": "4O-UM1sc9jPq"
      },
      "source": [
        "# Visualisations"
      ]
    },
    {
      "cell_type": "code",
      "metadata": {
        "id": "vGVh-Sx79oRP"
      },
      "source": [
        "X = dataset.iloc[:,1:]\n",
        "Y = dataset['genre']"
      ],
      "execution_count": 206,
      "outputs": []
    },
    {
      "cell_type": "markdown",
      "metadata": {
        "id": "0L-A2dRKIhyX"
      },
      "source": [
        "Features"
      ]
    },
    {
      "cell_type": "code",
      "metadata": {
        "id": "uTEw-6xGCZbl"
      },
      "source": [
        "X"
      ],
      "execution_count": null,
      "outputs": []
    },
    {
      "cell_type": "markdown",
      "metadata": {
        "id": "jutbfnAnIj4d"
      },
      "source": [
        "Output Classes"
      ]
    },
    {
      "cell_type": "code",
      "metadata": {
        "id": "8veUqIFXIZsk"
      },
      "source": [
        "Y"
      ],
      "execution_count": null,
      "outputs": []
    }
  ]
}