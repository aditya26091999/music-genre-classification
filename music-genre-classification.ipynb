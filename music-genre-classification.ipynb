{
  "nbformat": 4,
  "nbformat_minor": 0,
  "metadata": {
    "colab": {
      "name": "DMW-MiniProject-1.ipynb",
      "provenance": [],
      "collapsed_sections": [],
      "authorship_tag": "ABX9TyMhkIbvUAAzHF/pJMmTBdHR",
      "include_colab_link": true
    },
    "kernelspec": {
      "name": "python3",
      "display_name": "Python 3"
    }
  },
  "cells": [
    {
      "cell_type": "markdown",
      "metadata": {
        "id": "view-in-github",
        "colab_type": "text"
      },
      "source": [
        "<a href=\"https://colab.research.google.com/github/aditya26091999/music-genre-classification/blob/main/music-genre-classification.ipynb\" target=\"_parent\"><img src=\"https://colab.research.google.com/assets/colab-badge.svg\" alt=\"Open In Colab\"/></a>"
      ]
    },
    {
      "cell_type": "markdown",
      "metadata": {
        "id": "K6j2lryr3YKu"
      },
      "source": [
        "This Google Collab is meant to house the code for DMW-Mini-Project. The project deals with classifying the songs into respective genres.The datasets that can be used include Spotify, Gaana, Wynk, Shazam, Saavn, etc.Yet another audio dataset that can be used is GTZAN dataset.\n",
        "\n",
        "The dataset will be trained on some of the state-of-the-art classification algorithms like, SVM, Logistic Regression, CNN, Decision tree etc.\n",
        "\n",
        "The best algorithm choice will be made, after proper examination of results, accuracy and other deciding factors"
      ]
    },
    {
      "cell_type": "code",
      "metadata": {
        "id": "c-yKu9P2A9EM"
      },
      "source": [
        "print('Welcome to the MUSIC-GENRE-CLASSIFICATION Project!')"
      ],
      "execution_count": null,
      "outputs": []
    },
    {
      "cell_type": "code",
      "metadata": {
        "id": "vzguSpbcqYIO"
      },
      "source": [
        "#Downloading some Google-Collab exclusive dependencies\n",
        "!pip install flask-ngrok\n",
        "\n",
        "# Importing the necessary libraries for the project\n",
        "import numpy as np\n",
        "import pandas as pd\n",
        "import matplotlib.pyplot as plt\n",
        "import seaborn as sns\n",
        "import bokeh as bk\n",
        "import plotly as plt\n",
        "from flask_ngrok import run_with_ngrok\n",
        "from flask import Flask,jsonify,request\n",
        "from IPython.display import display"
      ],
      "execution_count": null,
      "outputs": []
    },
    {
      "cell_type": "markdown",
      "metadata": {
        "id": "ErIVdVEotAik"
      },
      "source": [
        "# **Music-Genre-Classification** Dataset Insights"
      ]
    },
    {
      "cell_type": "code",
      "metadata": {
        "id": "qObIeEDitIh0"
      },
      "source": [
        "#loading the dataset from Github folder\n",
        "datasetUrl = 'https://raw.githubusercontent.com/aditya26091999/music-genre-classification/main/Probable%20Datasets/26-Genres.csv'\n",
        "dataset = pd.read_csv(datasetUrl)\n",
        "dataset.set_index(\"genre\",inplace=True)"
      ],
      "execution_count": null,
      "outputs": []
    },
    {
      "cell_type": "markdown",
      "metadata": {
        "id": "ltOI4exrk_So"
      },
      "source": [
        "Inspecting the dataset structure and properties"
      ]
    },
    {
      "cell_type": "code",
      "metadata": {
        "id": "6Okxd4wGk9NB"
      },
      "source": [
        "#checking the dataset loaded from Github\n",
        "display(dataset.head())\n"
      ],
      "execution_count": null,
      "outputs": []
    },
    {
      "cell_type": "code",
      "metadata": {
        "id": "Q0q6Vo2Fl_l0"
      },
      "source": [
        "#displaying the unique genres[Classes for classification] present\n",
        "display(dataset.index.unique())\n",
        "print()\n",
        "\n",
        "#choosing only required genres(classes)\n",
        "genres_id = ['Country', 'Dance', 'Electronic', 'Folk', 'Hip-Hop', 'Rap', 'Classical', 'Pop', 'Jazz', 'Rock']\n",
        "print(\"Classes for the model : \",genres_id)"
      ],
      "execution_count": null,
      "outputs": []
    },
    {
      "cell_type": "code",
      "metadata": {
        "id": "b9nWXOUnorkK"
      },
      "source": [
        "#cleaning the dataset for unwanted genre classes and their associated rows\n",
        "display(dataset.columns)\n",
        "display(dataset.index.unique())\n",
        "\n",
        "columns_to_drop = ['artist_name', 'track_name', 'track_id', 'duration_ms','popularity', 'mode','time_signature']\n",
        "\n",
        "rows_to_drop = ['Movie', 'R&B', 'A Capella', 'Alternative', 'Anime','Blues', 'Opera',\"Children's Music\", 'Children’s Music', 'Indie', 'Reggae', 'Reggaeton', 'Ska', 'Comedy', 'Soul','Soundtrack', 'World']\n",
        "\n",
        "# Dropping the unwanted rows and columns\n",
        "dataset.drop(columns_to_drop,axis=1,inplace=True)\n",
        "dataset.drop(rows_to_drop,inplace=True)"
      ],
      "execution_count": null,
      "outputs": []
    },
    {
      "cell_type": "code",
      "metadata": {
        "id": "IK5lXOKx3RG9",
        "outputId": "f65ff104-b657-4a91-a295-6e0770d8579b",
        "colab": {
          "base_uri": "https://localhost:8080/",
          "height": 450
        }
      },
      "source": [
        "#Final cleaned dataset\n",
        "display(dataset)"
      ],
      "execution_count": 109,
      "outputs": [
        {
          "output_type": "display_data",
          "data": {
            "text/html": [
              "<div>\n",
              "<style scoped>\n",
              "    .dataframe tbody tr th:only-of-type {\n",
              "        vertical-align: middle;\n",
              "    }\n",
              "\n",
              "    .dataframe tbody tr th {\n",
              "        vertical-align: top;\n",
              "    }\n",
              "\n",
              "    .dataframe thead th {\n",
              "        text-align: right;\n",
              "    }\n",
              "</style>\n",
              "<table border=\"1\" class=\"dataframe\">\n",
              "  <thead>\n",
              "    <tr style=\"text-align: right;\">\n",
              "      <th></th>\n",
              "      <th>acousticness</th>\n",
              "      <th>danceability</th>\n",
              "      <th>energy</th>\n",
              "      <th>instrumentalness</th>\n",
              "      <th>key</th>\n",
              "      <th>liveness</th>\n",
              "      <th>loudness</th>\n",
              "      <th>speechiness</th>\n",
              "      <th>tempo</th>\n",
              "      <th>valence</th>\n",
              "    </tr>\n",
              "    <tr>\n",
              "      <th>genre</th>\n",
              "      <th></th>\n",
              "      <th></th>\n",
              "      <th></th>\n",
              "      <th></th>\n",
              "      <th></th>\n",
              "      <th></th>\n",
              "      <th></th>\n",
              "      <th></th>\n",
              "      <th></th>\n",
              "      <th></th>\n",
              "    </tr>\n",
              "  </thead>\n",
              "  <tbody>\n",
              "    <tr>\n",
              "      <th>Country</th>\n",
              "      <td>0.00821</td>\n",
              "      <td>0.551</td>\n",
              "      <td>0.704</td>\n",
              "      <td>0.000002</td>\n",
              "      <td>G#</td>\n",
              "      <td>0.2450</td>\n",
              "      <td>-5.426</td>\n",
              "      <td>0.0444</td>\n",
              "      <td>97.075</td>\n",
              "      <td>0.541</td>\n",
              "    </tr>\n",
              "    <tr>\n",
              "      <th>Country</th>\n",
              "      <td>0.02720</td>\n",
              "      <td>0.375</td>\n",
              "      <td>0.859</td>\n",
              "      <td>0.000000</td>\n",
              "      <td>G</td>\n",
              "      <td>0.2670</td>\n",
              "      <td>-3.243</td>\n",
              "      <td>0.0569</td>\n",
              "      <td>74.059</td>\n",
              "      <td>0.597</td>\n",
              "    </tr>\n",
              "    <tr>\n",
              "      <th>Country</th>\n",
              "      <td>0.69000</td>\n",
              "      <td>0.699</td>\n",
              "      <td>0.408</td>\n",
              "      <td>0.000219</td>\n",
              "      <td>B</td>\n",
              "      <td>0.1450</td>\n",
              "      <td>-11.460</td>\n",
              "      <td>0.0960</td>\n",
              "      <td>171.922</td>\n",
              "      <td>0.842</td>\n",
              "    </tr>\n",
              "    <tr>\n",
              "      <th>Country</th>\n",
              "      <td>0.15200</td>\n",
              "      <td>0.555</td>\n",
              "      <td>0.726</td>\n",
              "      <td>0.000178</td>\n",
              "      <td>D</td>\n",
              "      <td>0.1480</td>\n",
              "      <td>-8.939</td>\n",
              "      <td>0.0368</td>\n",
              "      <td>107.719</td>\n",
              "      <td>0.505</td>\n",
              "    </tr>\n",
              "    <tr>\n",
              "      <th>Country</th>\n",
              "      <td>0.57100</td>\n",
              "      <td>0.640</td>\n",
              "      <td>0.478</td>\n",
              "      <td>0.000000</td>\n",
              "      <td>B</td>\n",
              "      <td>0.0902</td>\n",
              "      <td>-6.960</td>\n",
              "      <td>0.0330</td>\n",
              "      <td>136.717</td>\n",
              "      <td>0.315</td>\n",
              "    </tr>\n",
              "    <tr>\n",
              "      <th>...</th>\n",
              "      <td>...</td>\n",
              "      <td>...</td>\n",
              "      <td>...</td>\n",
              "      <td>...</td>\n",
              "      <td>...</td>\n",
              "      <td>...</td>\n",
              "      <td>...</td>\n",
              "      <td>...</td>\n",
              "      <td>...</td>\n",
              "      <td>...</td>\n",
              "    </tr>\n",
              "    <tr>\n",
              "      <th>Rock</th>\n",
              "      <td>0.67000</td>\n",
              "      <td>0.718</td>\n",
              "      <td>0.593</td>\n",
              "      <td>0.000000</td>\n",
              "      <td>C</td>\n",
              "      <td>0.1720</td>\n",
              "      <td>-9.976</td>\n",
              "      <td>0.0377</td>\n",
              "      <td>124.251</td>\n",
              "      <td>0.869</td>\n",
              "    </tr>\n",
              "    <tr>\n",
              "      <th>Rock</th>\n",
              "      <td>0.03400</td>\n",
              "      <td>0.521</td>\n",
              "      <td>0.933</td>\n",
              "      <td>0.000021</td>\n",
              "      <td>B</td>\n",
              "      <td>0.3300</td>\n",
              "      <td>-4.874</td>\n",
              "      <td>0.1790</td>\n",
              "      <td>169.842</td>\n",
              "      <td>0.607</td>\n",
              "    </tr>\n",
              "    <tr>\n",
              "      <th>Rock</th>\n",
              "      <td>0.67100</td>\n",
              "      <td>0.618</td>\n",
              "      <td>0.769</td>\n",
              "      <td>0.241000</td>\n",
              "      <td>B</td>\n",
              "      <td>0.2760</td>\n",
              "      <td>-4.642</td>\n",
              "      <td>0.0309</td>\n",
              "      <td>111.978</td>\n",
              "      <td>0.607</td>\n",
              "    </tr>\n",
              "    <tr>\n",
              "      <th>Rock</th>\n",
              "      <td>0.05430</td>\n",
              "      <td>0.681</td>\n",
              "      <td>0.662</td>\n",
              "      <td>0.005120</td>\n",
              "      <td>G#</td>\n",
              "      <td>0.2060</td>\n",
              "      <td>-6.526</td>\n",
              "      <td>0.1150</td>\n",
              "      <td>149.485</td>\n",
              "      <td>0.850</td>\n",
              "    </tr>\n",
              "    <tr>\n",
              "      <th>Rock</th>\n",
              "      <td>0.38500</td>\n",
              "      <td>0.493</td>\n",
              "      <td>0.461</td>\n",
              "      <td>0.000333</td>\n",
              "      <td>B</td>\n",
              "      <td>0.0985</td>\n",
              "      <td>-9.777</td>\n",
              "      <td>0.0336</td>\n",
              "      <td>140.049</td>\n",
              "      <td>0.286</td>\n",
              "    </tr>\n",
              "  </tbody>\n",
              "</table>\n",
              "<p>91923 rows × 10 columns</p>\n",
              "</div>"
            ],
            "text/plain": [
              "         acousticness  danceability  energy  ...  speechiness    tempo  valence\n",
              "genre                                        ...                               \n",
              "Country       0.00821         0.551   0.704  ...       0.0444   97.075    0.541\n",
              "Country       0.02720         0.375   0.859  ...       0.0569   74.059    0.597\n",
              "Country       0.69000         0.699   0.408  ...       0.0960  171.922    0.842\n",
              "Country       0.15200         0.555   0.726  ...       0.0368  107.719    0.505\n",
              "Country       0.57100         0.640   0.478  ...       0.0330  136.717    0.315\n",
              "...               ...           ...     ...  ...          ...      ...      ...\n",
              "Rock          0.67000         0.718   0.593  ...       0.0377  124.251    0.869\n",
              "Rock          0.03400         0.521   0.933  ...       0.1790  169.842    0.607\n",
              "Rock          0.67100         0.618   0.769  ...       0.0309  111.978    0.607\n",
              "Rock          0.05430         0.681   0.662  ...       0.1150  149.485    0.850\n",
              "Rock          0.38500         0.493   0.461  ...       0.0336  140.049    0.286\n",
              "\n",
              "[91923 rows x 10 columns]"
            ]
          },
          "metadata": {
            "tags": []
          }
        }
      ]
    }
  ]
}