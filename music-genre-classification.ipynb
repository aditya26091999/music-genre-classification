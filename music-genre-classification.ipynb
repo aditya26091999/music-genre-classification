{
  "nbformat": 4,
  "nbformat_minor": 0,
  "metadata": {
    "colab": {
      "name": "DMW-MiniProject-1.ipynb",
      "provenance": [],
      "collapsed_sections": [],
      "authorship_tag": "ABX9TyPupbh+qkQZW5J5l/Jad0N7",
      "include_colab_link": true
    },
    "kernelspec": {
      "name": "python3",
      "display_name": "Python 3"
    }
  },
  "cells": [
    {
      "cell_type": "markdown",
      "metadata": {
        "id": "view-in-github",
        "colab_type": "text"
      },
      "source": [
        "<a href=\"https://colab.research.google.com/github/aditya26091999/music-genre-classification/blob/main/music-genre-classification.ipynb\" target=\"_parent\"><img src=\"https://colab.research.google.com/assets/colab-badge.svg\" alt=\"Open In Colab\"/></a>"
      ]
    },
    {
      "cell_type": "code",
      "metadata": {
        "id": "V03oHptj6DeA"
      },
      "source": [
        "#This Google Collab is meant to house the code for DMW-Mini-Project.\n",
        "#The project deals with classifying the songs into respective genres.\n",
        "#The datasets that can be used include Spotify, Gaana, Wynk, Shazam, Saavn, etc.\n",
        "#Yet another audio dataset that can be used is GTZAN dataset.\n",
        "\n",
        "#The dataset will be trained on some of the state-of-the-art classification algorithms like,\n",
        "#SVM, Logistic Regression, CNN, Decision tree etc.\n",
        "\n",
        "#The best algorithm choice will be made, after proper examination of results, accuracy and other deciding factors"
      ],
      "execution_count": null,
      "outputs": []
    },
    {
      "cell_type": "code",
      "metadata": {
        "id": "c-yKu9P2A9EM"
      },
      "source": [
        "print('Welcome to the MUSIC-GENRE-CLASSIFICATION Project!')"
      ],
      "execution_count": null,
      "outputs": []
    }
  ]
}