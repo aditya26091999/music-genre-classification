{
  "nbformat": 4,
  "nbformat_minor": 0,
  "metadata": {
    "colab": {
      "name": "DMW-MiniProject-1.ipynb",
      "provenance": [],
      "collapsed_sections": [],
      "authorship_tag": "ABX9TyPIaHrd7wprwOcCIpFs8hAF",
      "include_colab_link": true
    },
    "kernelspec": {
      "name": "python3",
      "display_name": "Python 3"
    }
  },
  "cells": [
    {
      "cell_type": "markdown",
      "metadata": {
        "id": "view-in-github",
        "colab_type": "text"
      },
      "source": [
        "<a href=\"https://colab.research.google.com/github/aditya26091999/music-genre-classification/blob/main/music-genre-classification.ipynb\" target=\"_parent\"><img src=\"https://colab.research.google.com/assets/colab-badge.svg\" alt=\"Open In Colab\"/></a>"
      ]
    },
    {
      "cell_type": "markdown",
      "metadata": {
        "id": "K6j2lryr3YKu"
      },
      "source": [
        "This Google Collab is meant to house the code for DMW-Mini-Project. The project deals with classifying the songs into respective genres.The datasets that can be used include Spotify, Gaana, Wynk, Shazam, Saavn, etc.Yet another audio dataset that can be used is GTZAN dataset.\n",
        "\n",
        "The dataset will be trained on some of the state-of-the-art classification algorithms like, SVM, Logistic Regression, CNN, Decision tree etc.\n",
        "\n",
        "The best algorithm choice will be made, after proper examination of results, accuracy and other deciding factors"
      ]
    },
    {
      "cell_type": "markdown",
      "metadata": {
        "id": "z-VPWc5Z9rwB"
      },
      "source": [
        "# Setting the Prerequisites"
      ]
    },
    {
      "cell_type": "code",
      "metadata": {
        "id": "c-yKu9P2A9EM",
        "outputId": "1c8fff74-9cc6-4743-de51-78fa2620a7f4",
        "colab": {
          "base_uri": "https://localhost:8080/"
        }
      },
      "source": [
        "print('Welcome to the MUSIC-GENRE-CLASSIFICATION Project!')"
      ],
      "execution_count": 117,
      "outputs": [
        {
          "output_type": "stream",
          "text": [
            "Welcome to the MUSIC-GENRE-CLASSIFICATION Project!\n"
          ],
          "name": "stdout"
        }
      ]
    },
    {
      "cell_type": "code",
      "metadata": {
        "id": "vzguSpbcqYIO",
        "outputId": "de92d9fe-dbe8-4411-a095-77b91f29de77",
        "colab": {
          "base_uri": "https://localhost:8080/"
        }
      },
      "source": [
        "#Downloading some Google-Collab exclusive dependencies\n",
        "!pip install flask-ngrok\n",
        "\n",
        "# Importing the necessary libraries for the project\n",
        "import numpy as np\n",
        "import pandas as pd\n",
        "import matplotlib.pyplot as plt\n",
        "import seaborn as sns\n",
        "import bokeh as bk\n",
        "import plotly as p\n",
        "from flask_ngrok import run_with_ngrok\n",
        "from flask import Flask,jsonify,request\n",
        "from IPython.display import display"
      ],
      "execution_count": 118,
      "outputs": [
        {
          "output_type": "stream",
          "text": [
            "Requirement already satisfied: flask-ngrok in /usr/local/lib/python3.6/dist-packages (0.0.25)\n",
            "Requirement already satisfied: requests in /usr/local/lib/python3.6/dist-packages (from flask-ngrok) (2.23.0)\n",
            "Requirement already satisfied: Flask>=0.8 in /usr/local/lib/python3.6/dist-packages (from flask-ngrok) (1.1.2)\n",
            "Requirement already satisfied: chardet<4,>=3.0.2 in /usr/local/lib/python3.6/dist-packages (from requests->flask-ngrok) (3.0.4)\n",
            "Requirement already satisfied: certifi>=2017.4.17 in /usr/local/lib/python3.6/dist-packages (from requests->flask-ngrok) (2020.6.20)\n",
            "Requirement already satisfied: idna<3,>=2.5 in /usr/local/lib/python3.6/dist-packages (from requests->flask-ngrok) (2.10)\n",
            "Requirement already satisfied: urllib3!=1.25.0,!=1.25.1,<1.26,>=1.21.1 in /usr/local/lib/python3.6/dist-packages (from requests->flask-ngrok) (1.24.3)\n",
            "Requirement already satisfied: Werkzeug>=0.15 in /usr/local/lib/python3.6/dist-packages (from Flask>=0.8->flask-ngrok) (1.0.1)\n",
            "Requirement already satisfied: itsdangerous>=0.24 in /usr/local/lib/python3.6/dist-packages (from Flask>=0.8->flask-ngrok) (1.1.0)\n",
            "Requirement already satisfied: Jinja2>=2.10.1 in /usr/local/lib/python3.6/dist-packages (from Flask>=0.8->flask-ngrok) (2.11.2)\n",
            "Requirement already satisfied: click>=5.1 in /usr/local/lib/python3.6/dist-packages (from Flask>=0.8->flask-ngrok) (7.1.2)\n",
            "Requirement already satisfied: MarkupSafe>=0.23 in /usr/local/lib/python3.6/dist-packages (from Jinja2>=2.10.1->Flask>=0.8->flask-ngrok) (1.1.1)\n"
          ],
          "name": "stdout"
        }
      ]
    },
    {
      "cell_type": "markdown",
      "metadata": {
        "id": "ErIVdVEotAik"
      },
      "source": [
        "# Dataset Insights"
      ]
    },
    {
      "cell_type": "markdown",
      "metadata": {
        "id": "thxouFfb92c1"
      },
      "source": [
        "Dataset retrieval from Github"
      ]
    },
    {
      "cell_type": "code",
      "metadata": {
        "id": "qObIeEDitIh0"
      },
      "source": [
        "#loading the dataset from Github folder\n",
        "datasetUrl = 'https://raw.githubusercontent.com/aditya26091999/music-genre-classification/main/Probable%20Datasets/26-Genres.csv'\n",
        "dataset = pd.read_csv(datasetUrl)"
      ],
      "execution_count": 184,
      "outputs": []
    },
    {
      "cell_type": "markdown",
      "metadata": {
        "id": "ltOI4exrk_So"
      },
      "source": [
        "Inspecting the original dataset structure and properties"
      ]
    },
    {
      "cell_type": "code",
      "metadata": {
        "id": "6Okxd4wGk9NB",
        "outputId": "2d10b671-a2b5-42ca-e503-e826468e94c6",
        "colab": {
          "base_uri": "https://localhost:8080/",
          "height": 411
        }
      },
      "source": [
        "#checking the dataset loaded from Github\n",
        "display(dataset.head())\n"
      ],
      "execution_count": 120,
      "outputs": [
        {
          "output_type": "display_data",
          "data": {
            "text/html": [
              "<div>\n",
              "<style scoped>\n",
              "    .dataframe tbody tr th:only-of-type {\n",
              "        vertical-align: middle;\n",
              "    }\n",
              "\n",
              "    .dataframe tbody tr th {\n",
              "        vertical-align: top;\n",
              "    }\n",
              "\n",
              "    .dataframe thead th {\n",
              "        text-align: right;\n",
              "    }\n",
              "</style>\n",
              "<table border=\"1\" class=\"dataframe\">\n",
              "  <thead>\n",
              "    <tr style=\"text-align: right;\">\n",
              "      <th></th>\n",
              "      <th>genre</th>\n",
              "      <th>artist_name</th>\n",
              "      <th>track_name</th>\n",
              "      <th>track_id</th>\n",
              "      <th>popularity</th>\n",
              "      <th>acousticness</th>\n",
              "      <th>danceability</th>\n",
              "      <th>duration_ms</th>\n",
              "      <th>energy</th>\n",
              "      <th>instrumentalness</th>\n",
              "      <th>key</th>\n",
              "      <th>liveness</th>\n",
              "      <th>loudness</th>\n",
              "      <th>mode</th>\n",
              "      <th>speechiness</th>\n",
              "      <th>tempo</th>\n",
              "      <th>time_signature</th>\n",
              "      <th>valence</th>\n",
              "    </tr>\n",
              "  </thead>\n",
              "  <tbody>\n",
              "    <tr>\n",
              "      <th>0</th>\n",
              "      <td>Movie</td>\n",
              "      <td>Henri Salvador</td>\n",
              "      <td>C'est beau de faire un Show</td>\n",
              "      <td>0BRjO6ga9RKCKjfDqeFgWV</td>\n",
              "      <td>0</td>\n",
              "      <td>0.611</td>\n",
              "      <td>0.389</td>\n",
              "      <td>99373</td>\n",
              "      <td>0.910</td>\n",
              "      <td>0.000</td>\n",
              "      <td>C#</td>\n",
              "      <td>0.3460</td>\n",
              "      <td>-1.828</td>\n",
              "      <td>Major</td>\n",
              "      <td>0.0525</td>\n",
              "      <td>166.969</td>\n",
              "      <td>4/4</td>\n",
              "      <td>0.814</td>\n",
              "    </tr>\n",
              "    <tr>\n",
              "      <th>1</th>\n",
              "      <td>Movie</td>\n",
              "      <td>Martin &amp; les fées</td>\n",
              "      <td>Perdu d'avance (par Gad Elmaleh)</td>\n",
              "      <td>0BjC1NfoEOOusryehmNudP</td>\n",
              "      <td>1</td>\n",
              "      <td>0.246</td>\n",
              "      <td>0.590</td>\n",
              "      <td>137373</td>\n",
              "      <td>0.737</td>\n",
              "      <td>0.000</td>\n",
              "      <td>F#</td>\n",
              "      <td>0.1510</td>\n",
              "      <td>-5.559</td>\n",
              "      <td>Minor</td>\n",
              "      <td>0.0868</td>\n",
              "      <td>174.003</td>\n",
              "      <td>4/4</td>\n",
              "      <td>0.816</td>\n",
              "    </tr>\n",
              "    <tr>\n",
              "      <th>2</th>\n",
              "      <td>Movie</td>\n",
              "      <td>Joseph Williams</td>\n",
              "      <td>Don't Let Me Be Lonely Tonight</td>\n",
              "      <td>0CoSDzoNIKCRs124s9uTVy</td>\n",
              "      <td>3</td>\n",
              "      <td>0.952</td>\n",
              "      <td>0.663</td>\n",
              "      <td>170267</td>\n",
              "      <td>0.131</td>\n",
              "      <td>0.000</td>\n",
              "      <td>C</td>\n",
              "      <td>0.1030</td>\n",
              "      <td>-13.879</td>\n",
              "      <td>Minor</td>\n",
              "      <td>0.0362</td>\n",
              "      <td>99.488</td>\n",
              "      <td>5/4</td>\n",
              "      <td>0.368</td>\n",
              "    </tr>\n",
              "    <tr>\n",
              "      <th>3</th>\n",
              "      <td>Movie</td>\n",
              "      <td>Henri Salvador</td>\n",
              "      <td>Dis-moi Monsieur Gordon Cooper</td>\n",
              "      <td>0Gc6TVm52BwZD07Ki6tIvf</td>\n",
              "      <td>0</td>\n",
              "      <td>0.703</td>\n",
              "      <td>0.240</td>\n",
              "      <td>152427</td>\n",
              "      <td>0.326</td>\n",
              "      <td>0.000</td>\n",
              "      <td>C#</td>\n",
              "      <td>0.0985</td>\n",
              "      <td>-12.178</td>\n",
              "      <td>Major</td>\n",
              "      <td>0.0395</td>\n",
              "      <td>171.758</td>\n",
              "      <td>4/4</td>\n",
              "      <td>0.227</td>\n",
              "    </tr>\n",
              "    <tr>\n",
              "      <th>4</th>\n",
              "      <td>Movie</td>\n",
              "      <td>Fabien Nataf</td>\n",
              "      <td>Ouverture</td>\n",
              "      <td>0IuslXpMROHdEPvSl1fTQK</td>\n",
              "      <td>4</td>\n",
              "      <td>0.950</td>\n",
              "      <td>0.331</td>\n",
              "      <td>82625</td>\n",
              "      <td>0.225</td>\n",
              "      <td>0.123</td>\n",
              "      <td>F</td>\n",
              "      <td>0.2020</td>\n",
              "      <td>-21.150</td>\n",
              "      <td>Major</td>\n",
              "      <td>0.0456</td>\n",
              "      <td>140.576</td>\n",
              "      <td>4/4</td>\n",
              "      <td>0.390</td>\n",
              "    </tr>\n",
              "  </tbody>\n",
              "</table>\n",
              "</div>"
            ],
            "text/plain": [
              "   genre        artist_name  ... time_signature valence\n",
              "0  Movie     Henri Salvador  ...            4/4   0.814\n",
              "1  Movie  Martin & les fées  ...            4/4   0.816\n",
              "2  Movie    Joseph Williams  ...            5/4   0.368\n",
              "3  Movie     Henri Salvador  ...            4/4   0.227\n",
              "4  Movie       Fabien Nataf  ...            4/4   0.390\n",
              "\n",
              "[5 rows x 18 columns]"
            ]
          },
          "metadata": {
            "tags": []
          }
        }
      ]
    },
    {
      "cell_type": "markdown",
      "metadata": {
        "id": "kK0TMZbA9_OB"
      },
      "source": [
        "## Cleaning the dataset"
      ]
    },
    {
      "cell_type": "code",
      "metadata": {
        "id": "b9nWXOUnorkK",
        "outputId": "e9519c5c-ed38-4b74-e88c-c1f317343007",
        "colab": {
          "base_uri": "https://localhost:8080/",
          "height": 187
        }
      },
      "source": [
        "#cleaning the dataset for unwanted genre classes and their associated rows\n",
        "display(dataset.columns)\n",
        "display(dataset.genre.unique())\n",
        "\n",
        "columns_to_drop = ['artist_name', 'track_name', 'track_id', 'duration_ms','popularity', 'mode','time_signature']\n",
        "\n",
        "rows_to_drop = ['Movie', 'R&B', 'A Capella', 'Alternative', 'Anime','Blues', 'Opera',\"Children's Music\", 'Children’s Music', 'Indie', 'Reggae', 'Reggaeton', 'Ska', 'Comedy', 'Soul','Soundtrack', 'World']\n",
        "\n",
        "# Dropping the unwanted features(columns)\n",
        "dataset.drop(columns_to_drop,axis=1,inplace=True)\n",
        "\n",
        "# Dropping the unwanted classes(rows)\n",
        "for x in rows_to_drop:\n",
        "  dataset.drop(dataset.loc[dataset['genre'] == x].index,inplace=True)"
      ],
      "execution_count": 185,
      "outputs": [
        {
          "output_type": "display_data",
          "data": {
            "text/plain": [
              "Index(['genre', 'artist_name', 'track_name', 'track_id', 'popularity',\n",
              "       'acousticness', 'danceability', 'duration_ms', 'energy',\n",
              "       'instrumentalness', 'key', 'liveness', 'loudness', 'mode',\n",
              "       'speechiness', 'tempo', 'time_signature', 'valence'],\n",
              "      dtype='object')"
            ]
          },
          "metadata": {
            "tags": []
          }
        },
        {
          "output_type": "display_data",
          "data": {
            "text/plain": [
              "array(['Movie', 'R&B', 'A Capella', 'Alternative', 'Country', 'Dance',\n",
              "       'Electronic', 'Anime', 'Folk', 'Blues', 'Opera', 'Hip-Hop',\n",
              "       \"Children's Music\", 'Children’s Music', 'Rap', 'Indie',\n",
              "       'Classical', 'Pop', 'Reggae', 'Reggaeton', 'Jazz', 'Rock', 'Ska',\n",
              "       'Comedy', 'Soul', 'Soundtrack', 'World'], dtype=object)"
            ]
          },
          "metadata": {
            "tags": []
          }
        }
      ]
    },
    {
      "cell_type": "code",
      "metadata": {
        "id": "fe15zjsI0UdF",
        "outputId": "38da15c5-5950-4ded-873b-6704b32af941",
        "colab": {
          "base_uri": "https://localhost:8080/",
          "height": 513
        }
      },
      "source": [
        "a = dataset.value_counts('genre')\n",
        "x = a.index\n",
        "y = a.values\n",
        "fig,axs = plt.subplots(figsize=(8,8))\n",
        "axs.bar(x,y)\n",
        "axs.set_xlabel(\"Classes for ML Model\")\n",
        "axs.set_ylabel(\"Frequency of rows\")\n",
        "axs.set_title(\"Inspecting the row counts of classes, to check any bias\")\n",
        "plt.show()"
      ],
      "execution_count": 186,
      "outputs": [
        {
          "output_type": "display_data",
          "data": {
            "image/png": "[encoded data removed]",
            "text/plain": [
              "<Figure size 576x576 with 1 Axes>"
            ]
          },
          "metadata": {
            "tags": [],
            "needs_background": "light"
          }
        }
      ]
    },
    {
      "cell_type": "code",
      "metadata": {
        "id": "nxVnn3Ve0cYC"
      },
      "source": [
        "#Checking for null values in the dataset\n",
        "dataset.isna().sum()\n",
        "\n",
        "#resetting the index, to ease cleaning of excess rows\n",
        "dataset.sort_values(by=['genre'],inplace=True)\n",
        "dataset.reset_index(drop=True,inplace=True)\n",
        "\n",
        "\n",
        "#creating an empty dataset with same structure as that of original dataset-frame\n",
        "final_dataset = dataset[0:0]\n",
        "\n",
        "#making a list of output classes/genres\n",
        "c = dataset.genre.unique()\n",
        "\n",
        "#populating the final_dataset with equal rows from each genre\n",
        "for x in c:\n",
        "  b = dataset.loc[dataset['genre'].isin([x])]\n",
        "  final_dataset = final_dataset.append(b.iloc[0:8664],ignore_index=True)\n",
        "\n",
        "#resetting the index of final_dataset\n",
        "final_dataset.reset_index(drop=True,inplace=True)"
      ],
      "execution_count": 237,
      "outputs": []
    },
    {
      "cell_type": "markdown",
      "metadata": {
        "id": "c2d1w3RQJsMV"
      },
      "source": [
        "**Final Cleaned Dataset**\n",
        "\n",
        "---\n",
        "\n"
      ]
    },
    {
      "cell_type": "code",
      "metadata": {
        "id": "IK5lXOKx3RG9",
        "outputId": "d7e2aada-7f77-4492-ea90-928e08b9e731",
        "colab": {
          "base_uri": "https://localhost:8080/",
          "height": 606
        }
      },
      "source": [
        "#Final cleaned dataset\n",
        "display(final_dataset)\n",
        "\n",
        "display(final_dataset.genre.value_counts())"
      ],
      "execution_count": 238,
      "outputs": [
        {
          "output_type": "display_data",
          "data": {
            "text/html": [
              "<div>\n",
              "<style scoped>\n",
              "    .dataframe tbody tr th:only-of-type {\n",
              "        vertical-align: middle;\n",
              "    }\n",
              "\n",
              "    .dataframe tbody tr th {\n",
              "        vertical-align: top;\n",
              "    }\n",
              "\n",
              "    .dataframe thead th {\n",
              "        text-align: right;\n",
              "    }\n",
              "</style>\n",
              "<table border=\"1\" class=\"dataframe\">\n",
              "  <thead>\n",
              "    <tr style=\"text-align: right;\">\n",
              "      <th></th>\n",
              "      <th>genre</th>\n",
              "      <th>acousticness</th>\n",
              "      <th>danceability</th>\n",
              "      <th>energy</th>\n",
              "      <th>instrumentalness</th>\n",
              "      <th>key</th>\n",
              "      <th>liveness</th>\n",
              "      <th>loudness</th>\n",
              "      <th>speechiness</th>\n",
              "      <th>tempo</th>\n",
              "      <th>valence</th>\n",
              "    </tr>\n",
              "  </thead>\n",
              "  <tbody>\n",
              "    <tr>\n",
              "      <th>0</th>\n",
              "      <td>Classical</td>\n",
              "      <td>0.76600</td>\n",
              "      <td>0.0942</td>\n",
              "      <td>0.0206</td>\n",
              "      <td>0.838000</td>\n",
              "      <td>C#</td>\n",
              "      <td>0.0851</td>\n",
              "      <td>-30.400</td>\n",
              "      <td>0.0413</td>\n",
              "      <td>83.671</td>\n",
              "      <td>0.0380</td>\n",
              "    </tr>\n",
              "    <tr>\n",
              "      <th>1</th>\n",
              "      <td>Classical</td>\n",
              "      <td>0.98600</td>\n",
              "      <td>0.3940</td>\n",
              "      <td>0.0336</td>\n",
              "      <td>0.919000</td>\n",
              "      <td>E</td>\n",
              "      <td>0.0723</td>\n",
              "      <td>-23.732</td>\n",
              "      <td>0.0415</td>\n",
              "      <td>66.636</td>\n",
              "      <td>0.0398</td>\n",
              "    </tr>\n",
              "    <tr>\n",
              "      <th>2</th>\n",
              "      <td>Classical</td>\n",
              "      <td>0.97900</td>\n",
              "      <td>0.4030</td>\n",
              "      <td>0.1470</td>\n",
              "      <td>0.647000</td>\n",
              "      <td>D</td>\n",
              "      <td>0.0564</td>\n",
              "      <td>-20.519</td>\n",
              "      <td>0.0406</td>\n",
              "      <td>128.729</td>\n",
              "      <td>0.4460</td>\n",
              "    </tr>\n",
              "    <tr>\n",
              "      <th>3</th>\n",
              "      <td>Classical</td>\n",
              "      <td>0.97300</td>\n",
              "      <td>0.4030</td>\n",
              "      <td>0.0920</td>\n",
              "      <td>0.595000</td>\n",
              "      <td>G</td>\n",
              "      <td>0.1940</td>\n",
              "      <td>-24.312</td>\n",
              "      <td>0.0382</td>\n",
              "      <td>130.786</td>\n",
              "      <td>0.3960</td>\n",
              "    </tr>\n",
              "    <tr>\n",
              "      <th>4</th>\n",
              "      <td>Classical</td>\n",
              "      <td>0.97400</td>\n",
              "      <td>0.3030</td>\n",
              "      <td>0.0504</td>\n",
              "      <td>0.922000</td>\n",
              "      <td>A#</td>\n",
              "      <td>0.0840</td>\n",
              "      <td>-33.142</td>\n",
              "      <td>0.0322</td>\n",
              "      <td>171.809</td>\n",
              "      <td>0.6460</td>\n",
              "    </tr>\n",
              "    <tr>\n",
              "      <th>...</th>\n",
              "      <td>...</td>\n",
              "      <td>...</td>\n",
              "      <td>...</td>\n",
              "      <td>...</td>\n",
              "      <td>...</td>\n",
              "      <td>...</td>\n",
              "      <td>...</td>\n",
              "      <td>...</td>\n",
              "      <td>...</td>\n",
              "      <td>...</td>\n",
              "      <td>...</td>\n",
              "    </tr>\n",
              "    <tr>\n",
              "      <th>86635</th>\n",
              "      <td>Rock</td>\n",
              "      <td>0.12100</td>\n",
              "      <td>0.3130</td>\n",
              "      <td>0.8940</td>\n",
              "      <td>0.000000</td>\n",
              "      <td>C#</td>\n",
              "      <td>0.0925</td>\n",
              "      <td>-3.579</td>\n",
              "      <td>0.0294</td>\n",
              "      <td>149.043</td>\n",
              "      <td>0.3620</td>\n",
              "    </tr>\n",
              "    <tr>\n",
              "      <th>86636</th>\n",
              "      <td>Rock</td>\n",
              "      <td>0.00455</td>\n",
              "      <td>0.3430</td>\n",
              "      <td>0.9770</td>\n",
              "      <td>0.019700</td>\n",
              "      <td>D</td>\n",
              "      <td>0.0948</td>\n",
              "      <td>-4.993</td>\n",
              "      <td>0.0579</td>\n",
              "      <td>166.664</td>\n",
              "      <td>0.7270</td>\n",
              "    </tr>\n",
              "    <tr>\n",
              "      <th>86637</th>\n",
              "      <td>Rock</td>\n",
              "      <td>0.33300</td>\n",
              "      <td>0.7030</td>\n",
              "      <td>0.4900</td>\n",
              "      <td>0.828000</td>\n",
              "      <td>C</td>\n",
              "      <td>0.4240</td>\n",
              "      <td>-7.430</td>\n",
              "      <td>0.0304</td>\n",
              "      <td>100.028</td>\n",
              "      <td>0.7080</td>\n",
              "    </tr>\n",
              "    <tr>\n",
              "      <th>86638</th>\n",
              "      <td>Rock</td>\n",
              "      <td>0.00109</td>\n",
              "      <td>0.5370</td>\n",
              "      <td>0.9700</td>\n",
              "      <td>0.000055</td>\n",
              "      <td>F#</td>\n",
              "      <td>0.0928</td>\n",
              "      <td>-2.391</td>\n",
              "      <td>0.0918</td>\n",
              "      <td>86.044</td>\n",
              "      <td>0.5810</td>\n",
              "    </tr>\n",
              "    <tr>\n",
              "      <th>86639</th>\n",
              "      <td>Rock</td>\n",
              "      <td>0.00357</td>\n",
              "      <td>0.3760</td>\n",
              "      <td>0.7870</td>\n",
              "      <td>0.000000</td>\n",
              "      <td>F</td>\n",
              "      <td>0.5520</td>\n",
              "      <td>-4.731</td>\n",
              "      <td>0.0395</td>\n",
              "      <td>87.105</td>\n",
              "      <td>0.3720</td>\n",
              "    </tr>\n",
              "  </tbody>\n",
              "</table>\n",
              "<p>86640 rows × 11 columns</p>\n",
              "</div>"
            ],
            "text/plain": [
              "           genre  acousticness  danceability  ...  speechiness    tempo valence\n",
              "0      Classical       0.76600        0.0942  ...       0.0413   83.671  0.0380\n",
              "1      Classical       0.98600        0.3940  ...       0.0415   66.636  0.0398\n",
              "2      Classical       0.97900        0.4030  ...       0.0406  128.729  0.4460\n",
              "3      Classical       0.97300        0.4030  ...       0.0382  130.786  0.3960\n",
              "4      Classical       0.97400        0.3030  ...       0.0322  171.809  0.6460\n",
              "...          ...           ...           ...  ...          ...      ...     ...\n",
              "86635       Rock       0.12100        0.3130  ...       0.0294  149.043  0.3620\n",
              "86636       Rock       0.00455        0.3430  ...       0.0579  166.664  0.7270\n",
              "86637       Rock       0.33300        0.7030  ...       0.0304  100.028  0.7080\n",
              "86638       Rock       0.00109        0.5370  ...       0.0918   86.044  0.5810\n",
              "86639       Rock       0.00357        0.3760  ...       0.0395   87.105  0.3720\n",
              "\n",
              "[86640 rows x 11 columns]"
            ]
          },
          "metadata": {
            "tags": []
          }
        },
        {
          "output_type": "display_data",
          "data": {
            "text/plain": [
              "Jazz          8664\n",
              "Dance         8664\n",
              "Country       8664\n",
              "Hip-Hop       8664\n",
              "Pop           8664\n",
              "Electronic    8664\n",
              "Rock          8664\n",
              "Rap           8664\n",
              "Classical     8664\n",
              "Folk          8664\n",
              "Name: genre, dtype: int64"
            ]
          },
          "metadata": {
            "tags": []
          }
        }
      ]
    },
    {
      "cell_type": "code",
      "metadata": {
        "id": "8bh1T--V9BGc",
        "outputId": "bdc8e7ea-d18e-4065-8f9a-42cd55c634bb",
        "colab": {
          "base_uri": "https://localhost:8080/",
          "height": 671
        }
      },
      "source": [
        "display(final_dataset.describe())\n",
        "print()\n",
        "display(final_dataset.info())\n",
        "print()\n",
        "display(final_dataset.shape)"
      ],
      "execution_count": 239,
      "outputs": [
        {
          "output_type": "display_data",
          "data": {
            "text/html": [
              "<div>\n",
              "<style scoped>\n",
              "    .dataframe tbody tr th:only-of-type {\n",
              "        vertical-align: middle;\n",
              "    }\n",
              "\n",
              "    .dataframe tbody tr th {\n",
              "        vertical-align: top;\n",
              "    }\n",
              "\n",
              "    .dataframe thead th {\n",
              "        text-align: right;\n",
              "    }\n",
              "</style>\n",
              "<table border=\"1\" class=\"dataframe\">\n",
              "  <thead>\n",
              "    <tr style=\"text-align: right;\">\n",
              "      <th></th>\n",
              "      <th>acousticness</th>\n",
              "      <th>danceability</th>\n",
              "      <th>energy</th>\n",
              "      <th>instrumentalness</th>\n",
              "      <th>liveness</th>\n",
              "      <th>loudness</th>\n",
              "      <th>speechiness</th>\n",
              "      <th>tempo</th>\n",
              "      <th>valence</th>\n",
              "    </tr>\n",
              "  </thead>\n",
              "  <tbody>\n",
              "    <tr>\n",
              "      <th>count</th>\n",
              "      <td>86640.000000</td>\n",
              "      <td>86640.000000</td>\n",
              "      <td>86640.000000</td>\n",
              "      <td>86640.000000</td>\n",
              "      <td>86640.000000</td>\n",
              "      <td>86640.000000</td>\n",
              "      <td>86640.000000</td>\n",
              "      <td>86640.000000</td>\n",
              "      <td>86640.000000</td>\n",
              "    </tr>\n",
              "    <tr>\n",
              "      <th>mean</th>\n",
              "      <td>0.314205</td>\n",
              "      <td>0.584795</td>\n",
              "      <td>0.583039</td>\n",
              "      <td>0.152921</td>\n",
              "      <td>0.185881</td>\n",
              "      <td>-9.051282</td>\n",
              "      <td>0.095736</td>\n",
              "      <td>119.084392</td>\n",
              "      <td>0.453107</td>\n",
              "    </tr>\n",
              "    <tr>\n",
              "      <th>std</th>\n",
              "      <td>0.335610</td>\n",
              "      <td>0.175074</td>\n",
              "      <td>0.251371</td>\n",
              "      <td>0.304042</td>\n",
              "      <td>0.152505</td>\n",
              "      <td>5.952823</td>\n",
              "      <td>0.103179</td>\n",
              "      <td>29.547961</td>\n",
              "      <td>0.244234</td>\n",
              "    </tr>\n",
              "    <tr>\n",
              "      <th>min</th>\n",
              "      <td>0.000001</td>\n",
              "      <td>0.058200</td>\n",
              "      <td>0.000020</td>\n",
              "      <td>0.000000</td>\n",
              "      <td>0.012000</td>\n",
              "      <td>-47.599000</td>\n",
              "      <td>0.022200</td>\n",
              "      <td>34.208000</td>\n",
              "      <td>0.000000</td>\n",
              "    </tr>\n",
              "    <tr>\n",
              "      <th>25%</th>\n",
              "      <td>0.030700</td>\n",
              "      <td>0.477000</td>\n",
              "      <td>0.430000</td>\n",
              "      <td>0.000000</td>\n",
              "      <td>0.096200</td>\n",
              "      <td>-10.610250</td>\n",
              "      <td>0.035800</td>\n",
              "      <td>95.026000</td>\n",
              "      <td>0.257000</td>\n",
              "    </tr>\n",
              "    <tr>\n",
              "      <th>50%</th>\n",
              "      <td>0.164000</td>\n",
              "      <td>0.600000</td>\n",
              "      <td>0.623000</td>\n",
              "      <td>0.000037</td>\n",
              "      <td>0.123000</td>\n",
              "      <td>-7.240000</td>\n",
              "      <td>0.048600</td>\n",
              "      <td>119.015500</td>\n",
              "      <td>0.440000</td>\n",
              "    </tr>\n",
              "    <tr>\n",
              "      <th>75%</th>\n",
              "      <td>0.556000</td>\n",
              "      <td>0.711000</td>\n",
              "      <td>0.781000</td>\n",
              "      <td>0.050500</td>\n",
              "      <td>0.225000</td>\n",
              "      <td>-5.301000</td>\n",
              "      <td>0.104000</td>\n",
              "      <td>139.941000</td>\n",
              "      <td>0.641000</td>\n",
              "    </tr>\n",
              "    <tr>\n",
              "      <th>max</th>\n",
              "      <td>0.996000</td>\n",
              "      <td>0.987000</td>\n",
              "      <td>0.999000</td>\n",
              "      <td>0.994000</td>\n",
              "      <td>1.000000</td>\n",
              "      <td>1.585000</td>\n",
              "      <td>0.945000</td>\n",
              "      <td>236.799000</td>\n",
              "      <td>0.992000</td>\n",
              "    </tr>\n",
              "  </tbody>\n",
              "</table>\n",
              "</div>"
            ],
            "text/plain": [
              "       acousticness  danceability  ...         tempo       valence\n",
              "count  86640.000000  86640.000000  ...  86640.000000  86640.000000\n",
              "mean       0.314205      0.584795  ...    119.084392      0.453107\n",
              "std        0.335610      0.175074  ...     29.547961      0.244234\n",
              "min        0.000001      0.058200  ...     34.208000      0.000000\n",
              "25%        0.030700      0.477000  ...     95.026000      0.257000\n",
              "50%        0.164000      0.600000  ...    119.015500      0.440000\n",
              "75%        0.556000      0.711000  ...    139.941000      0.641000\n",
              "max        0.996000      0.987000  ...    236.799000      0.992000\n",
              "\n",
              "[8 rows x 9 columns]"
            ]
          },
          "metadata": {
            "tags": []
          }
        },
        {
          "output_type": "stream",
          "text": [
            "\n",
            "<class 'pandas.core.frame.DataFrame'>\n",
            "RangeIndex: 86640 entries, 0 to 86639\n",
            "Data columns (total 11 columns):\n",
            " #   Column            Non-Null Count  Dtype  \n",
            "---  ------            --------------  -----  \n",
            " 0   genre             86640 non-null  object \n",
            " 1   acousticness      86640 non-null  float64\n",
            " 2   danceability      86640 non-null  float64\n",
            " 3   energy            86640 non-null  float64\n",
            " 4   instrumentalness  86640 non-null  float64\n",
            " 5   key               86640 non-null  object \n",
            " 6   liveness          86640 non-null  float64\n",
            " 7   loudness          86640 non-null  float64\n",
            " 8   speechiness       86640 non-null  float64\n",
            " 9   tempo             86640 non-null  float64\n",
            " 10  valence           86640 non-null  float64\n",
            "dtypes: float64(9), object(2)\n",
            "memory usage: 7.3+ MB\n"
          ],
          "name": "stdout"
        },
        {
          "output_type": "display_data",
          "data": {
            "text/plain": [
              "None"
            ]
          },
          "metadata": {
            "tags": []
          }
        },
        {
          "output_type": "stream",
          "text": [
            "\n"
          ],
          "name": "stdout"
        },
        {
          "output_type": "display_data",
          "data": {
            "text/plain": [
              "(86640, 11)"
            ]
          },
          "metadata": {
            "tags": []
          }
        }
      ]
    }
  ]
}